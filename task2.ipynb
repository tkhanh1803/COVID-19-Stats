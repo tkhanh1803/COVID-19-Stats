{
 "cells": [
  {
   "cell_type": "code",
   "execution_count": 65,
   "metadata": {},
   "outputs": [],
   "source": [
    "import pandas as pd\n",
    "import numpy as np\n",
    "import seaborn as sns \n",
    "import matplotlib.pyplot as plt"
   ]
  },
  {
   "cell_type": "code",
   "execution_count": 2,
   "metadata": {},
   "outputs": [],
   "source": [
    "df = pd.read_csv('data/owid-covid-data.csv')"
   ]
  },
  {
   "cell_type": "code",
   "execution_count": 3,
   "metadata": {},
   "outputs": [],
   "source": [
    "df['date'] = pd.to_datetime(df['date'], format='%m/%d/%Y')"
   ]
  },
  {
   "cell_type": "markdown",
   "metadata": {},
   "source": [
    "**2. Nhóm câu hỏi về mô tả thống kê cơ bản dữ liệu**\n",
    "\n",
    "Với mỗi quốc gia thuộc về nhóm cần tính số liệu thống kê lần lượt cho nhiễm và tử vong do coronavirus được báo cáo mới.\n",
    "\n",
    "Chỉ cần thực hiện với 3 quốc gia: **Brazil, Chile, Venezuela**"
   ]
  },
  {
   "cell_type": "markdown",
   "metadata": {},
   "source": [
    "**(1) Tính giá trị nhỏ nhất, lớn nhất**"
   ]
  },
  {
   "cell_type": "code",
   "execution_count": 17,
   "metadata": {},
   "outputs": [
    {
     "data": {
      "text/html": [
       "<div>\n",
       "<style scoped>\n",
       "    .dataframe tbody tr th:only-of-type {\n",
       "        vertical-align: middle;\n",
       "    }\n",
       "\n",
       "    .dataframe tbody tr th {\n",
       "        vertical-align: top;\n",
       "    }\n",
       "\n",
       "    .dataframe thead th {\n",
       "        text-align: right;\n",
       "    }\n",
       "</style>\n",
       "<table border=\"1\" class=\"dataframe\">\n",
       "  <thead>\n",
       "    <tr style=\"text-align: right;\">\n",
       "      <th></th>\n",
       "      <th>iso_code</th>\n",
       "      <th>new_cases_min</th>\n",
       "      <th>new_cases_max</th>\n",
       "      <th>new_deaths_min</th>\n",
       "      <th>new_deaths_max</th>\n",
       "    </tr>\n",
       "  </thead>\n",
       "  <tbody>\n",
       "    <tr>\n",
       "      <th>0</th>\n",
       "      <td>BRA</td>\n",
       "      <td>-19796.0</td>\n",
       "      <td>287149.0</td>\n",
       "      <td>0.0</td>\n",
       "      <td>4148.0</td>\n",
       "    </tr>\n",
       "    <tr>\n",
       "      <th>1</th>\n",
       "      <td>CHL</td>\n",
       "      <td>0.0</td>\n",
       "      <td>41651.0</td>\n",
       "      <td>-213.0</td>\n",
       "      <td>1057.0</td>\n",
       "    </tr>\n",
       "    <tr>\n",
       "      <th>2</th>\n",
       "      <td>VEN</td>\n",
       "      <td>0.0</td>\n",
       "      <td>4418.0</td>\n",
       "      <td>-6.0</td>\n",
       "      <td>35.0</td>\n",
       "    </tr>\n",
       "  </tbody>\n",
       "</table>\n",
       "</div>"
      ],
      "text/plain": [
       "  iso_code  new_cases_min  new_cases_max  new_deaths_min  new_deaths_max\n",
       "0      BRA       -19796.0       287149.0             0.0          4148.0\n",
       "1      CHL            0.0        41651.0          -213.0          1057.0\n",
       "2      VEN            0.0         4418.0            -6.0            35.0"
      ]
     },
     "execution_count": 17,
     "metadata": {},
     "output_type": "execute_result"
    }
   ],
   "source": [
    "selected_countries = [\"BRA\", \"CHL\", \"VEN\"]\n",
    "filtered_df = df[df[\"iso_code\"].isin(selected_countries).dropna()]\n",
    "\n",
    "stats_selected_df = filtered_df.groupby(\"iso_code\").agg(\n",
    "    new_cases_min=(\"new_cases\", \"min\"),\n",
    "    new_cases_max=(\"new_cases\", \"max\"),\n",
    "    new_deaths_min=(\"new_deaths\", \"min\"),\n",
    "    new_deaths_max=(\"new_deaths\", \"max\")\n",
    ").reset_index()\n",
    "\n",
    "stats_selected_df"
   ]
  },
  {
   "cell_type": "markdown",
   "metadata": {},
   "source": [
    "**(2) Tính tứ phân vị thứ nhất(Q1), thứ hai(Q2), thứ ba(Q3)** "
   ]
  },
  {
   "cell_type": "code",
   "execution_count": 34,
   "metadata": {},
   "outputs": [
    {
     "data": {
      "text/html": [
       "<div>\n",
       "<style scoped>\n",
       "    .dataframe tbody tr th:only-of-type {\n",
       "        vertical-align: middle;\n",
       "    }\n",
       "\n",
       "    .dataframe tbody tr th {\n",
       "        vertical-align: top;\n",
       "    }\n",
       "\n",
       "    .dataframe thead th {\n",
       "        text-align: right;\n",
       "    }\n",
       "</style>\n",
       "<table border=\"1\" class=\"dataframe\">\n",
       "  <thead>\n",
       "    <tr style=\"text-align: right;\">\n",
       "      <th></th>\n",
       "      <th>iso_code</th>\n",
       "      <th>new_cases_Q1</th>\n",
       "      <th>new_cases_Q2</th>\n",
       "      <th>new_cases_Q3</th>\n",
       "      <th>new_deaths_Q1</th>\n",
       "      <th>new_deaths_Q2</th>\n",
       "      <th>new_deaths_Q3</th>\n",
       "    </tr>\n",
       "  </thead>\n",
       "  <tbody>\n",
       "    <tr>\n",
       "      <th>0</th>\n",
       "      <td>BRA</td>\n",
       "      <td>13268.75</td>\n",
       "      <td>31282.5</td>\n",
       "      <td>53992.75</td>\n",
       "      <td>351.00</td>\n",
       "      <td>735.0</td>\n",
       "      <td>1194.00</td>\n",
       "    </tr>\n",
       "    <tr>\n",
       "      <th>1</th>\n",
       "      <td>CHL</td>\n",
       "      <td>1179.75</td>\n",
       "      <td>1997.5</td>\n",
       "      <td>4315.25</td>\n",
       "      <td>19.75</td>\n",
       "      <td>42.0</td>\n",
       "      <td>83.25</td>\n",
       "    </tr>\n",
       "    <tr>\n",
       "      <th>2</th>\n",
       "      <td>VEN</td>\n",
       "      <td>245.00</td>\n",
       "      <td>590.0</td>\n",
       "      <td>1100.25</td>\n",
       "      <td>3.00</td>\n",
       "      <td>6.0</td>\n",
       "      <td>12.00</td>\n",
       "    </tr>\n",
       "  </tbody>\n",
       "</table>\n",
       "</div>"
      ],
      "text/plain": [
       "  iso_code  new_cases_Q1  new_cases_Q2  new_cases_Q3  new_deaths_Q1  \\\n",
       "0      BRA      13268.75       31282.5      53992.75         351.00   \n",
       "1      CHL       1179.75        1997.5       4315.25          19.75   \n",
       "2      VEN        245.00         590.0       1100.25           3.00   \n",
       "\n",
       "   new_deaths_Q2  new_deaths_Q3  \n",
       "0          735.0        1194.00  \n",
       "1           42.0          83.25  \n",
       "2            6.0          12.00  "
      ]
     },
     "execution_count": 34,
     "metadata": {},
     "output_type": "execute_result"
    }
   ],
   "source": [
    "quantile_selected_df = filtered_df.groupby(\"iso_code\").agg(\n",
    "    new_cases_Q1=(\"new_cases\", lambda x: x.quantile(0.25)),\n",
    "    new_cases_Q2=(\"new_cases\", lambda x: x.quantile(0.50)), \n",
    "    new_cases_Q3=(\"new_cases\", lambda x: x.quantile(0.75)),\n",
    "    new_deaths_Q1=(\"new_deaths\", lambda x: x.quantile(0.25)),\n",
    "    new_deaths_Q2=(\"new_deaths\", lambda x: x.quantile(0.50)),\n",
    "    new_deaths_Q3=(\"new_deaths\", lambda x: x.quantile(0.75))\n",
    ").reset_index()\n",
    "\n",
    "quantile_selected_df\n"
   ]
  },
  {
   "cell_type": "markdown",
   "metadata": {},
   "source": [
    "**(3) Tính giá trị trung bình (mean)** "
   ]
  },
  {
   "cell_type": "code",
   "execution_count": 44,
   "metadata": {},
   "outputs": [
    {
     "data": {
      "text/html": [
       "<div>\n",
       "<style scoped>\n",
       "    .dataframe tbody tr th:only-of-type {\n",
       "        vertical-align: middle;\n",
       "    }\n",
       "\n",
       "    .dataframe tbody tr th {\n",
       "        vertical-align: top;\n",
       "    }\n",
       "\n",
       "    .dataframe thead th {\n",
       "        text-align: right;\n",
       "    }\n",
       "</style>\n",
       "<table border=\"1\" class=\"dataframe\">\n",
       "  <thead>\n",
       "    <tr style=\"text-align: right;\">\n",
       "      <th></th>\n",
       "      <th>new_cases_mean</th>\n",
       "      <th>new_deaths_mean</th>\n",
       "    </tr>\n",
       "    <tr>\n",
       "      <th>iso_code</th>\n",
       "      <th></th>\n",
       "      <th></th>\n",
       "    </tr>\n",
       "  </thead>\n",
       "  <tbody>\n",
       "    <tr>\n",
       "      <th>BRA</th>\n",
       "      <td>38746.5318</td>\n",
       "      <td>913.7518</td>\n",
       "    </tr>\n",
       "    <tr>\n",
       "      <th>CHL</th>\n",
       "      <td>3872.5907</td>\n",
       "      <td>58.8514</td>\n",
       "    </tr>\n",
       "    <tr>\n",
       "      <th>VEN</th>\n",
       "      <td>721.1201</td>\n",
       "      <td>8.0604</td>\n",
       "    </tr>\n",
       "  </tbody>\n",
       "</table>\n",
       "</div>"
      ],
      "text/plain": [
       "          new_cases_mean  new_deaths_mean\n",
       "iso_code                                 \n",
       "BRA           38746.5318         913.7518\n",
       "CHL            3872.5907          58.8514\n",
       "VEN             721.1201           8.0604"
      ]
     },
     "execution_count": 44,
     "metadata": {},
     "output_type": "execute_result"
    }
   ],
   "source": [
    "mean_selected_df = filtered_df.groupby(\"iso_code\").agg(\n",
    "    new_cases_mean=(\"new_cases\", \"mean\"),\n",
    "    new_deaths_mean=(\"new_deaths\", \"mean\"), \n",
    ")\n",
    "mean_selected_df.round(4)"
   ]
  },
  {
   "cell_type": "markdown",
   "metadata": {},
   "source": [
    "**(4) Tính độ lệch chuẩn (std-standard deviation)**"
   ]
  },
  {
   "cell_type": "code",
   "execution_count": 45,
   "metadata": {},
   "outputs": [
    {
     "data": {
      "text/html": [
       "<div>\n",
       "<style scoped>\n",
       "    .dataframe tbody tr th:only-of-type {\n",
       "        vertical-align: middle;\n",
       "    }\n",
       "\n",
       "    .dataframe tbody tr th {\n",
       "        vertical-align: top;\n",
       "    }\n",
       "\n",
       "    .dataframe thead th {\n",
       "        text-align: right;\n",
       "    }\n",
       "</style>\n",
       "<table border=\"1\" class=\"dataframe\">\n",
       "  <thead>\n",
       "    <tr style=\"text-align: right;\">\n",
       "      <th></th>\n",
       "      <th>new_cases_std</th>\n",
       "      <th>new_deaths_std</th>\n",
       "    </tr>\n",
       "    <tr>\n",
       "      <th>iso_code</th>\n",
       "      <th></th>\n",
       "      <th></th>\n",
       "    </tr>\n",
       "  </thead>\n",
       "  <tbody>\n",
       "    <tr>\n",
       "      <th>BRA</th>\n",
       "      <td>37070.2348</td>\n",
       "      <td>767.5984</td>\n",
       "    </tr>\n",
       "    <tr>\n",
       "      <th>CHL</th>\n",
       "      <td>6093.3562</td>\n",
       "      <td>68.0270</td>\n",
       "    </tr>\n",
       "    <tr>\n",
       "      <th>VEN</th>\n",
       "      <td>631.3701</td>\n",
       "      <td>7.2182</td>\n",
       "    </tr>\n",
       "  </tbody>\n",
       "</table>\n",
       "</div>"
      ],
      "text/plain": [
       "          new_cases_std  new_deaths_std\n",
       "iso_code                               \n",
       "BRA          37070.2348        767.5984\n",
       "CHL           6093.3562         68.0270\n",
       "VEN            631.3701          7.2182"
      ]
     },
     "execution_count": 45,
     "metadata": {},
     "output_type": "execute_result"
    }
   ],
   "source": [
    "sdt_selected_df = filtered_df.groupby(\"iso_code\").agg(\n",
    "    new_cases_std=(\"new_cases\", \"std\"),\n",
    "    new_deaths_std=(\"new_deaths\", \"std\"), \n",
    ")\n",
    "sdt_selected_df.round(4)"
   ]
  },
  {
   "cell_type": "markdown",
   "metadata": {},
   "source": [
    "**(5) Đếm xem có bao nhiêu outliers, một quan sát mà giá trị của nó nằm trong khoảng sau:**\n",
    "\n",
    "**IQR = Q3 - Q1**\n",
    "\n",
    "**outliers < Q1 - 1,5*IQR** hoặc **outliers > Q3 + 1,5*IQR**"
   ]
  },
  {
   "cell_type": "code",
   "execution_count": null,
   "metadata": {},
   "outputs": [
    {
     "data": {
      "text/html": [
       "<div>\n",
       "<style scoped>\n",
       "    .dataframe tbody tr th:only-of-type {\n",
       "        vertical-align: middle;\n",
       "    }\n",
       "\n",
       "    .dataframe tbody tr th {\n",
       "        vertical-align: top;\n",
       "    }\n",
       "\n",
       "    .dataframe thead th {\n",
       "        text-align: right;\n",
       "    }\n",
       "</style>\n",
       "<table border=\"1\" class=\"dataframe\">\n",
       "  <thead>\n",
       "    <tr style=\"text-align: right;\">\n",
       "      <th></th>\n",
       "      <th>iso_code</th>\n",
       "      <th>new_cases_outliers</th>\n",
       "      <th>new_deaths_outliers</th>\n",
       "    </tr>\n",
       "  </thead>\n",
       "  <tbody>\n",
       "    <tr>\n",
       "      <th>0</th>\n",
       "      <td>BRA</td>\n",
       "      <td>26</td>\n",
       "      <td>42</td>\n",
       "    </tr>\n",
       "    <tr>\n",
       "      <th>1</th>\n",
       "      <td>CHL</td>\n",
       "      <td>38</td>\n",
       "      <td>29</td>\n",
       "    </tr>\n",
       "    <tr>\n",
       "      <th>2</th>\n",
       "      <td>VEN</td>\n",
       "      <td>15</td>\n",
       "      <td>21</td>\n",
       "    </tr>\n",
       "  </tbody>\n",
       "</table>\n",
       "</div>"
      ],
      "text/plain": [
       "  iso_code  new_cases_outliers  new_deaths_outliers\n",
       "0      BRA                  26                   42\n",
       "1      CHL                  38                   29\n",
       "2      VEN                  15                   21"
      ]
     },
     "execution_count": 56,
     "metadata": {},
     "output_type": "execute_result"
    }
   ],
   "source": [
    "def calculate_outliers(group):\n",
    "    q1 = group.quantile(0.25)\n",
    "    q3 = group.quantile(0.75)\n",
    "    IQR = q3 - q1\n",
    "    lower_bound = q1 - 1.5 * IQR\n",
    "    upper_bound = q3 + 1.5 * IQR\n",
    "    \n",
    "    outliers = ((group < lower_bound) | (group > upper_bound)).sum()\n",
    "    return outliers\n",
    "\n",
    "outliers_cases = filtered_df.groupby(\"iso_code\")['new_cases'].apply(calculate_outliers).reset_index(name='new_cases_outliers')\n",
    "outliers_deaths = filtered_df.groupby(\"iso_code\")['new_deaths'].apply(calculate_outliers).reset_index(name='new_deaths_outliers')\n",
    "\n",
    "outliers_df = pd.merge(outliers_cases, outliers_deaths, on='iso_code')\n",
    "\n",
    "outliers_df\n"
   ]
  },
  {
   "cell_type": "markdown",
   "metadata": {},
   "source": [
    "**(6) Lập bảng mô tả sô liệu thống kê cho từng 3 đất nước đó**"
   ]
  },
  {
   "cell_type": "markdown",
   "metadata": {},
   "source": [
    "**Bảng mô tả dữ liệu thống kê cho new_cases**"
   ]
  },
  {
   "cell_type": "code",
   "execution_count": 61,
   "metadata": {},
   "outputs": [
    {
     "data": {
      "text/html": [
       "<div>\n",
       "<style scoped>\n",
       "    .dataframe tbody tr th:only-of-type {\n",
       "        vertical-align: middle;\n",
       "    }\n",
       "\n",
       "    .dataframe tbody tr th {\n",
       "        vertical-align: top;\n",
       "    }\n",
       "\n",
       "    .dataframe thead th {\n",
       "        text-align: right;\n",
       "    }\n",
       "</style>\n",
       "<table border=\"1\" class=\"dataframe\">\n",
       "  <thead>\n",
       "    <tr style=\"text-align: right;\">\n",
       "      <th></th>\n",
       "      <th>iso_code</th>\n",
       "      <th>new_cases_min</th>\n",
       "      <th>new_cases_Q1</th>\n",
       "      <th>new_cases_Q2</th>\n",
       "      <th>new_cases_Q3</th>\n",
       "      <th>new_cases_max</th>\n",
       "      <th>new_cases_avg</th>\n",
       "      <th>new_cases_std</th>\n",
       "      <th>new_cases_outliers</th>\n",
       "    </tr>\n",
       "  </thead>\n",
       "  <tbody>\n",
       "    <tr>\n",
       "      <th>0</th>\n",
       "      <td>BRA</td>\n",
       "      <td>-19796.0</td>\n",
       "      <td>13268.75</td>\n",
       "      <td>31282.5</td>\n",
       "      <td>53992.75</td>\n",
       "      <td>287149.0</td>\n",
       "      <td>38746.531768</td>\n",
       "      <td>37070.234763</td>\n",
       "      <td>26</td>\n",
       "    </tr>\n",
       "    <tr>\n",
       "      <th>1</th>\n",
       "      <td>CHL</td>\n",
       "      <td>0.0</td>\n",
       "      <td>1179.75</td>\n",
       "      <td>1997.5</td>\n",
       "      <td>4315.25</td>\n",
       "      <td>41651.0</td>\n",
       "      <td>3872.590659</td>\n",
       "      <td>6093.356189</td>\n",
       "      <td>38</td>\n",
       "    </tr>\n",
       "    <tr>\n",
       "      <th>2</th>\n",
       "      <td>VEN</td>\n",
       "      <td>0.0</td>\n",
       "      <td>245.00</td>\n",
       "      <td>590.0</td>\n",
       "      <td>1100.25</td>\n",
       "      <td>4418.0</td>\n",
       "      <td>721.120056</td>\n",
       "      <td>631.370117</td>\n",
       "      <td>15</td>\n",
       "    </tr>\n",
       "  </tbody>\n",
       "</table>\n",
       "</div>"
      ],
      "text/plain": [
       "  iso_code  new_cases_min  new_cases_Q1  new_cases_Q2  new_cases_Q3  \\\n",
       "0      BRA       -19796.0      13268.75       31282.5      53992.75   \n",
       "1      CHL            0.0       1179.75        1997.5       4315.25   \n",
       "2      VEN            0.0        245.00         590.0       1100.25   \n",
       "\n",
       "   new_cases_max  new_cases_avg  new_cases_std  new_cases_outliers  \n",
       "0       287149.0   38746.531768   37070.234763                  26  \n",
       "1        41651.0    3872.590659    6093.356189                  38  \n",
       "2         4418.0     721.120056     631.370117                  15  "
      ]
     },
     "execution_count": 61,
     "metadata": {},
     "output_type": "execute_result"
    }
   ],
   "source": [
    "overall_selected_cases_df = filtered_df.groupby(\"iso_code\").agg(\n",
    "    new_cases_min = (\"new_cases\", \"min\"),\n",
    "    new_cases_Q1=(\"new_cases\", lambda x: x.quantile(0.25)),\n",
    "    new_cases_Q2=(\"new_cases\", lambda x: x.quantile(0.50)), \n",
    "    new_cases_Q3=(\"new_cases\", lambda x: x.quantile(0.75)),\n",
    "    new_cases_max = (\"new_cases\", \"max\"),\n",
    "    new_cases_avg=(\"new_cases\", \"mean\"),\n",
    "    new_cases_std = (\"new_cases\", \"std\"),\n",
    ").reset_index()\n",
    "\n",
    "overall_selected_cases_df = pd.merge(overall_selected_df, outliers_cases)\n",
    "overall_selected_cases_df\n"
   ]
  },
  {
   "cell_type": "markdown",
   "metadata": {},
   "source": [
    "**Bảng mô tả dữ liệu thống kê cho new_deaths**"
   ]
  },
  {
   "cell_type": "code",
   "execution_count": 62,
   "metadata": {},
   "outputs": [
    {
     "data": {
      "text/html": [
       "<div>\n",
       "<style scoped>\n",
       "    .dataframe tbody tr th:only-of-type {\n",
       "        vertical-align: middle;\n",
       "    }\n",
       "\n",
       "    .dataframe tbody tr th {\n",
       "        vertical-align: top;\n",
       "    }\n",
       "\n",
       "    .dataframe thead th {\n",
       "        text-align: right;\n",
       "    }\n",
       "</style>\n",
       "<table border=\"1\" class=\"dataframe\">\n",
       "  <thead>\n",
       "    <tr style=\"text-align: right;\">\n",
       "      <th></th>\n",
       "      <th>iso_code</th>\n",
       "      <th>new_deaths_min</th>\n",
       "      <th>new_deaths_Q1</th>\n",
       "      <th>new_deaths_Q2</th>\n",
       "      <th>new_deaths_Q3</th>\n",
       "      <th>new_deaths_max</th>\n",
       "      <th>new_deaths_avg</th>\n",
       "      <th>new_deaths_std</th>\n",
       "      <th>new_deaths_outliers</th>\n",
       "    </tr>\n",
       "  </thead>\n",
       "  <tbody>\n",
       "    <tr>\n",
       "      <th>0</th>\n",
       "      <td>BRA</td>\n",
       "      <td>0.0</td>\n",
       "      <td>351.00</td>\n",
       "      <td>735.0</td>\n",
       "      <td>1194.00</td>\n",
       "      <td>4148.0</td>\n",
       "      <td>913.751773</td>\n",
       "      <td>767.598420</td>\n",
       "      <td>42</td>\n",
       "    </tr>\n",
       "    <tr>\n",
       "      <th>1</th>\n",
       "      <td>CHL</td>\n",
       "      <td>-213.0</td>\n",
       "      <td>19.75</td>\n",
       "      <td>42.0</td>\n",
       "      <td>83.25</td>\n",
       "      <td>1057.0</td>\n",
       "      <td>58.851429</td>\n",
       "      <td>68.026993</td>\n",
       "      <td>29</td>\n",
       "    </tr>\n",
       "    <tr>\n",
       "      <th>2</th>\n",
       "      <td>VEN</td>\n",
       "      <td>-6.0</td>\n",
       "      <td>3.00</td>\n",
       "      <td>6.0</td>\n",
       "      <td>12.00</td>\n",
       "      <td>35.0</td>\n",
       "      <td>8.060432</td>\n",
       "      <td>7.218239</td>\n",
       "      <td>21</td>\n",
       "    </tr>\n",
       "  </tbody>\n",
       "</table>\n",
       "</div>"
      ],
      "text/plain": [
       "  iso_code  new_deaths_min  new_deaths_Q1  new_deaths_Q2  new_deaths_Q3  \\\n",
       "0      BRA             0.0         351.00          735.0        1194.00   \n",
       "1      CHL          -213.0          19.75           42.0          83.25   \n",
       "2      VEN            -6.0           3.00            6.0          12.00   \n",
       "\n",
       "   new_deaths_max  new_deaths_avg  new_deaths_std  new_deaths_outliers  \n",
       "0          4148.0      913.751773      767.598420                   42  \n",
       "1          1057.0       58.851429       68.026993                   29  \n",
       "2            35.0        8.060432        7.218239                   21  "
      ]
     },
     "execution_count": 62,
     "metadata": {},
     "output_type": "execute_result"
    }
   ],
   "source": [
    "overall_selected_deaths_df = filtered_df.groupby(\"iso_code\").agg(\n",
    "    new_deaths_min = (\"new_deaths\", \"min\"),\n",
    "    new_deaths_Q1=(\"new_deaths\", lambda x: x.quantile(0.25)),\n",
    "    new_deaths_Q2=(\"new_deaths\", lambda x: x.quantile(0.50)), \n",
    "    new_deaths_Q3=(\"new_deaths\", lambda x: x.quantile(0.75)),\n",
    "    new_deaths_max = (\"new_deaths\", \"max\"),\n",
    "    new_deaths_avg=(\"new_deaths\", \"mean\"),\n",
    "    new_deaths_std = (\"new_deaths\", \"std\"),\n",
    ").reset_index()\n",
    "\n",
    "overall_selected_deaths_df = pd.merge(overall_selected_deaths_df, outliers_deaths)\n",
    "overall_selected_deaths_df\n"
   ]
  },
  {
   "cell_type": "markdown",
   "metadata": {},
   "source": [
    "**(7) Vẽ biểu đồ boxplot hay còn gọi là box-and-whisker cho nhiễm coronavirus**"
   ]
  },
  {
   "cell_type": "code",
   "execution_count": 68,
   "metadata": {},
   "outputs": [],
   "source": [
    "df_BRA = filtered_df[filtered_df['iso_code'] == 'BRA']\n",
    "df_CHL = filtered_df[filtered_df['iso_code'] == 'CHL']\n",
    "df_VEN = filtered_df[filtered_df['iso_code'] == 'VEN']"
   ]
  },
  {
   "cell_type": "code",
   "execution_count": 74,
   "metadata": {},
   "outputs": [
    {
     "data": {
      "image/png": "[encoded data removed]",
      "text/plain": [
       "<Figure size 1000x200 with 1 Axes>"
      ]
     },
     "metadata": {},
     "output_type": "display_data"
    }
   ],
   "source": [
    "plt.figure(figsize=(10, 2))\n",
    "\n",
    "sns.boxplot(x=\"new_cases\", y=\"iso_code\", data=df_BRA)\n",
    "\n",
    "plt.title(\"Boxplot of New Cases by BRAZIL\", fontsize=16)\n",
    "plt.xlabel(\"BRA\", fontsize=14)\n",
    "plt.ylabel(\"New Cases\", fontsize=14)\n",
    "\n",
    "plt.show()"
   ]
  },
  {
   "cell_type": "code",
   "execution_count": 75,
   "metadata": {},
   "outputs": [
    {
     "data": {
      "image/png": "[encoded data removed]",
      "text/plain": [
       "<Figure size 1000x200 with 1 Axes>"
      ]
     },
     "metadata": {},
     "output_type": "display_data"
    }
   ],
   "source": [
    "plt.figure(figsize=(10, 2))\n",
    "\n",
    "sns.boxplot(x=\"new_cases\", y=\"iso_code\", data=df_CHL)\n",
    "\n",
    "plt.title(\"Boxplot of New Cases by CHILE\", fontsize=16)\n",
    "plt.xlabel(\"CHL\", fontsize=14)\n",
    "plt.ylabel(\"New Cases\", fontsize=14)\n",
    "\n",
    "plt.show()"
   ]
  },
  {
   "cell_type": "code",
   "execution_count": 77,
   "metadata": {},
   "outputs": [
    {
     "data": {
      "image/png": "[encoded data removed]",
      "text/plain": [
       "<Figure size 1000x200 with 1 Axes>"
      ]
     },
     "metadata": {},
     "output_type": "display_data"
    }
   ],
   "source": [
    "plt.figure(figsize=(10, 2))\n",
    "\n",
    "sns.boxplot(x=\"new_cases\", y=\"iso_code\", data=df_VEN)\n",
    "\n",
    "plt.title(\"Boxplot of New Cases by VENEZUELA\", fontsize=16)\n",
    "plt.xlabel(\"VEN\", fontsize=14)\n",
    "plt.ylabel(\"New Cases\", fontsize=14)\n",
    "\n",
    "plt.show()"
   ]
  }
 ],
 "metadata": {
  "kernelspec": {
   "display_name": "base",
   "language": "python",
   "name": "python3"
  },
  "language_info": {
   "codemirror_mode": {
    "name": "ipython",
    "version": 3
   },
   "file_extension": ".py",
   "mimetype": "text/x-python",
   "name": "python",
   "nbconvert_exporter": "python",
   "pygments_lexer": "ipython3",
   "version": "3.12.7"
  }
 },
 "nbformat": 4,
 "nbformat_minor": 2
}
